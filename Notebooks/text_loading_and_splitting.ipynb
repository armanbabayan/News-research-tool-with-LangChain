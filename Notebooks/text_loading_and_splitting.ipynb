{
 "cells": [
  {
   "cell_type": "markdown",
   "source": [
    "# Data Loading and splitting"
   ],
   "metadata": {
    "collapsed": false
   }
  },
  {
   "cell_type": "markdown",
   "source": [
    "#### This notebook demonstrates how to load and split data using the LangChain library."
   ],
   "metadata": {
    "collapsed": false
   }
  },
  {
   "cell_type": "code",
   "execution_count": 1,
   "outputs": [],
   "source": [
    "# import libraries\n",
    "from langchain.document_loaders import UnstructuredURLLoader\n",
    "from langchain.text_splitter import CharacterTextSplitter\n",
    "from langchain.text_splitter import RecursiveCharacterTextSplitter"
   ],
   "metadata": {
    "collapsed": false
   }
  },
  {
   "cell_type": "markdown",
   "source": [
    "### UnstructuredURLLoader"
   ],
   "metadata": {
    "collapsed": false
   }
  },
  {
   "cell_type": "code",
   "execution_count": 2,
   "outputs": [],
   "source": [
    "loader = UnstructuredURLLoader(\n",
    "    urls = [\n",
    "        \"https://www.reuters.com/business/finance/caixabanks-q3-net-profit-rises-70-same-period-2022-2023-10-27/\",\n",
    "        \"https://www.reuters.com/business/finance/danske-bank-q3-profit-exceeds-expectations-2023-10-27/\",\n",
    "        \"https://www.cnbc.com/2023/10/26/amazons-profit-margin-nears-record-high-after-ceo-jassys-cost-cuts.html\"\n",
    "    ]\n",
    ")"
   ],
   "metadata": {
    "collapsed": false
   }
  },
  {
   "cell_type": "code",
   "execution_count": 3,
   "outputs": [
    {
     "data": {
      "text/plain": "3"
     },
     "execution_count": 3,
     "metadata": {},
     "output_type": "execute_result"
    }
   ],
   "source": [
    "# load data and check length (3 urls was passed)\n",
    "data = loader.load()\n",
    "len(data)"
   ],
   "metadata": {
    "collapsed": false
   }
  },
  {
   "cell_type": "code",
   "execution_count": 4,
   "outputs": [
    {
     "data": {
      "text/plain": "'Finance\\n\\nCaixabank sees higher lending income in 2023 after beating forecasts\\n\\nBy\\n\\nJesús Aguado\\n\\nOctober 27, 2023\\n\\n7:26 AM UTC\\n\\nUpdated  ago\\n\\n\\n\\n\\n\\n\\n\\n\\n\\n\\n\\n\\n\\n\\n\\n\\n\\nA man uses a Caixabank ATM in Barcelona, Spain, October 3, 2022. REUTERS/Nacho Doce/File photo  Acquire Licensing Rights\\n\\nSummary\\n\\nCompanies\\n\\nQ3 net profit beats market forecasts\\n\\nNII 2023 growth guidance lifted to 10 bln vs 9.25 bln\\n\\nTargets stable NII performance in 2024\\n\\nMADRID, Oct 27 (Reuters) - Caixabank (CABK.MC) reported third-quarter net profit on Friday which beat forecasts, helped by higher lending income, which the Spanish bank said would rise more than 50% in 2023 compared to 2022.\\n\\nSpanish lenders are mainly retail lenders and are benefiting from rising interest rates, with higher returns on their loans, driven mainly by floating rate credit, while keeping deposit costs under control.\\n\\nIn Caixabank\\'s case, yields on loans rose 48 basis points in the quarter to 4.23% while costs of deposits climbed 16 basis points to 0.71%, widening the customer spread to 352 basis points compared to 320 bps in the second quarter.\\n\\nThat helped the bank offset subdued new mortgage lending, which fell 1.2% quarter-on-quarter.\\n\\nThe bank\\'s net interest income, earnings on loans minus deposit costs, rose 71% year-on-year in the three-months ending Sept. 30 to 2.74 billion euros ($2.89 billion), above the 2.53 billion euros analysts expected.\\n\\nAgainst that background, Caixabank revised its 2023 guidance for lending income to equal or above 10 billion euros from previously 9.25 billion euros, implying a rise of more than 50% against an net interest income (NII) of 6.55 billion euros in 2022.\\n\\nFor 2024, it expects its NII to have a stable performance from 2023.\\n\\nBroker JP Morgan welcome an \"impressive\" NII performance and revised guidance for lending income though noted that customer deposits were down 1.3% quarter-on-quarter.\\n\\nAt 0721 GMT, Caixabank shares were flat after rising 2.4% in the previous session.\\n\\nIts net profit rose 70% year-on-year to 1.52 billion euros, more than the 1.38 billion euros analysts forecast in a Reuters poll.\\n\\nEarnings at the country\\'s biggest lender by domestic assets were also supported by a solid performance at its insurance services business, which rose 26% year-on-year in the quarter.\\n\\nThis helped push its return on tangible equity ratio (ROTE), a measure of profitability, to 14.1% at the end of September from 12% in the second quarter.\\n\\nIn terms of solvency, Caixabank finished September with a fully loaded core tier-1 capital ratio of 12.16% from 12.42% by end of June, including the impact from the 500 million euro share buyback.\\n\\n($1 = 0.9471 euros)\\n\\nReporting by Jesús Aguado; editing by Inti Landauro & Simon Cameron-Moore\\n\\nOur Standards: The Thomson Reuters Trust Principles.\\n\\n\\n\\n\\n\\n\\n\\n\\n\\n\\n\\nAcquire Licensing Rights, opens new tab\\n\\nRead Next\\n\\narticle with videoCorporate GovernancecategoryCEO Dimon to sell some of his JPMorgan shares for first timeOctober 27, 2023\\n\\nMarketscategoryWall St Week Ahead Frazzled U.S. stock investors eye frothy Treasury market as Fed looms4:38 AM UTC\\n\\nMarketscategoryMorgan Stanley gives new CEO Ted Pick, 2 executives $20 million bonusesOctober 27, 2023\\n\\nFinancecategoryMediobanca CEO and allies keep grip on bank after shareholder vote1:33 PM UTC'"
     },
     "execution_count": 4,
     "metadata": {},
     "output_type": "execute_result"
    }
   ],
   "source": [
    "data[0].page_content"
   ],
   "metadata": {
    "collapsed": false
   }
  },
  {
   "cell_type": "code",
   "execution_count": 5,
   "outputs": [
    {
     "data": {
      "text/plain": "{'source': 'https://www.reuters.com/business/finance/caixabanks-q3-net-profit-rises-70-same-period-2022-2023-10-27/'}"
     },
     "execution_count": 5,
     "metadata": {},
     "output_type": "execute_result"
    }
   ],
   "source": [
    "# source of the data\n",
    "data[0].metadata"
   ],
   "metadata": {
    "collapsed": false
   }
  },
  {
   "cell_type": "markdown",
   "source": [
    "## Text Splitters"
   ],
   "metadata": {
    "collapsed": false
   }
  },
  {
   "cell_type": "markdown",
   "source": [
    "> To effectively handle input text within the token limits of Language Models (LLMs), it is crucial to break down the text into smaller chunks to avoid exceeding the token limit. In addition to manual splitting, there are two more efficient methods for text segmentation provided by LangChain. The first method involves *character splitting*, which allows you to segment the data based on a specified character. The second method is *recursive splitting*, which provides the flexibility to segment the given text using multiple characters. This approach can be particularly valuable when dealing with extensive texts, as a single delimiter may not produce the desired results."
   ],
   "metadata": {
    "collapsed": false
   }
  },
  {
   "cell_type": "markdown",
   "source": [
    "- ### CharacterTextSplitter\n"
   ],
   "metadata": {
    "collapsed": false
   }
  },
  {
   "cell_type": "code",
   "execution_count": 6,
   "outputs": [],
   "source": [
    "# create CharacterTextSplitter\n",
    "splitter = CharacterTextSplitter(\n",
    "    separator = \"\\n\",\n",
    "    chunk_size=200,\n",
    "    chunk_overlap=0\n",
    ")"
   ],
   "metadata": {
    "collapsed": false
   }
  },
  {
   "cell_type": "code",
   "execution_count": 7,
   "outputs": [
    {
     "name": "stderr",
     "output_type": "stream",
     "text": [
      "Created a chunk of size 224, which is longer than the specified 200\n",
      "Created a chunk of size 206, which is longer than the specified 200\n",
      "Created a chunk of size 231, which is longer than the specified 200\n",
      "Created a chunk of size 215, which is longer than the specified 200\n",
      "Created a chunk of size 251, which is longer than the specified 200\n"
     ]
    },
    {
     "data": {
      "text/plain": "20"
     },
     "execution_count": 7,
     "metadata": {},
     "output_type": "execute_result"
    }
   ],
   "source": [
    "chunks = splitter.split_text(data[0].page_content)\n",
    "len(chunks)"
   ],
   "metadata": {
    "collapsed": false
   }
  },
  {
   "cell_type": "code",
   "execution_count": 8,
   "outputs": [
    {
     "name": "stdout",
     "output_type": "stream",
     "text": [
      "134\n",
      "175\n",
      "92\n",
      "224\n",
      "206\n",
      "231\n",
      "93\n",
      "215\n",
      "251\n",
      "68\n",
      "167\n",
      "82\n",
      "129\n",
      "182\n",
      "153\n",
      "196\n",
      "196\n",
      "122\n",
      "114\n",
      "195\n"
     ]
    }
   ],
   "source": [
    "for chunk in chunks:\n",
    "    print(len(chunk))"
   ],
   "metadata": {
    "collapsed": false
   }
  },
  {
   "cell_type": "markdown",
   "source": [
    "- ### RecursiveTextSplitter"
   ],
   "metadata": {
    "collapsed": false
   }
  },
  {
   "cell_type": "code",
   "execution_count": 9,
   "outputs": [],
   "source": [
    "r_splitter = RecursiveCharacterTextSplitter(\n",
    "    separators = [\"\\n\\n\", \"\\n\", \" \"],  # List of separators based on requirement (defaults to [\"\\n\\n\", \"\\n\", \" \"])\n",
    "    chunk_size = 200,  # size of each chunk created\n",
    "    chunk_overlap  = 0,  # size of  overlap between chunks in order to maintain the context\n",
    ")"
   ],
   "metadata": {
    "collapsed": false
   }
  },
  {
   "cell_type": "code",
   "execution_count": 10,
   "outputs": [
    {
     "data": {
      "text/plain": "25"
     },
     "execution_count": 10,
     "metadata": {},
     "output_type": "execute_result"
    }
   ],
   "source": [
    "chunks = r_splitter.split_text(data[0].page_content)\n",
    "len(chunks)"
   ],
   "metadata": {
    "collapsed": false
   }
  },
  {
   "cell_type": "code",
   "execution_count": 11,
   "outputs": [
    {
     "name": "stdout",
     "output_type": "stream",
     "text": [
      "140\n",
      "178\n",
      "93\n",
      "198\n",
      "25\n",
      "197\n",
      "8\n",
      "197\n",
      "33\n",
      "93\n",
      "196\n",
      "18\n",
      "198\n",
      "52\n",
      "68\n",
      "167\n",
      "82\n",
      "129\n",
      "182\n",
      "153\n",
      "196\n",
      "148\n",
      "174\n",
      "114\n",
      "196\n"
     ]
    }
   ],
   "source": [
    "for chunk in chunks:\n",
    "    print(len(chunk))"
   ],
   "metadata": {
    "collapsed": false
   }
  },
  {
   "cell_type": "code",
   "execution_count": 11,
   "outputs": [],
   "source": [],
   "metadata": {
    "collapsed": false
   }
  }
 ],
 "metadata": {
  "kernelspec": {
   "display_name": "Python 3",
   "language": "python",
   "name": "python3"
  },
  "language_info": {
   "codemirror_mode": {
    "name": "ipython",
    "version": 2
   },
   "file_extension": ".py",
   "mimetype": "text/x-python",
   "name": "python",
   "nbconvert_exporter": "python",
   "pygments_lexer": "ipython2",
   "version": "2.7.6"
  }
 },
 "nbformat": 4,
 "nbformat_minor": 0
}
